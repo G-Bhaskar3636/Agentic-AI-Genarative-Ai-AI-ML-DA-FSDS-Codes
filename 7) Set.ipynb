{
 "cells": [
  {
   "cell_type": "markdown",
   "id": "ed9d8ac0-090f-4bcc-98a3-7d5e8dc8a2f8",
   "metadata": {},
   "source": [
    "# Set\n",
    "- It is the just like the combination of the list and the tuple.\n",
    "- It is un-ordered it will not maintain order.\n",
    "- It is mutable, it will allow the changes loke adding and removing\n",
    "- The elements in the set canot be indexed."
   ]
  },
  {
   "cell_type": "markdown",
   "id": "29e9447d-8d06-446e-a7e7-5cf9321a3164",
   "metadata": {},
   "source": [
    "------------------------------------------------------------------------------------------------------------------------------------------"
   ]
  },
  {
   "cell_type": "markdown",
   "id": "338d5df2-aa39-4b03-b6ea-d09518acad03",
   "metadata": {},
   "source": [
    "- For adding: set.add(element) It will add the single element in set || set.update(multiple elements) It will add the multiple elements like list"
   ]
  },
  {
   "cell_type": "code",
   "execution_count": 17,
   "id": "e13b4f0a-937c-4830-932a-b5d98a8a836f",
   "metadata": {},
   "outputs": [
    {
     "data": {
      "text/plain": [
       "dict"
      ]
     },
     "execution_count": 17,
     "metadata": {},
     "output_type": "execute_result"
    }
   ],
   "source": [
    "a = {}\n",
    "type(a)"
   ]
  },
  {
   "cell_type": "code",
   "execution_count": 18,
   "id": "89fbcfd4-8872-4f9f-97a7-959d494b22a8",
   "metadata": {},
   "outputs": [
    {
     "data": {
      "text/plain": [
       "{10, 20, 30}"
      ]
     },
     "execution_count": 18,
     "metadata": {},
     "output_type": "execute_result"
    }
   ],
   "source": [
    "a = {10, 20, 30}\n",
    "a"
   ]
  },
  {
   "cell_type": "code",
   "execution_count": 19,
   "id": "91e1ec28-aca1-4b1e-896d-23e555028eb2",
   "metadata": {},
   "outputs": [
    {
     "data": {
      "text/plain": [
       "{10, 20, 30, 40}"
      ]
     },
     "execution_count": 19,
     "metadata": {},
     "output_type": "execute_result"
    }
   ],
   "source": [
    "a.add(40)\n",
    "a"
   ]
  },
  {
   "cell_type": "code",
   "execution_count": 20,
   "id": "0ddbd5f9-60f3-4090-be03-d931570621ca",
   "metadata": {},
   "outputs": [
    {
     "data": {
      "text/plain": [
       "{10, 20, 30, 40, 50}"
      ]
     },
     "execution_count": 20,
     "metadata": {},
     "output_type": "execute_result"
    }
   ],
   "source": [
    "a.update([10, 40, 50])\n",
    "a"
   ]
  },
  {
   "cell_type": "code",
   "execution_count": 21,
   "id": "dd48f8ba-ba6c-4de3-a5c1-d8aa011410d5",
   "metadata": {},
   "outputs": [
    {
     "data": {
      "text/plain": [
       "{10, 20, 30, 40, 50, 60, 70}"
      ]
     },
     "execution_count": 21,
     "metadata": {},
     "output_type": "execute_result"
    }
   ],
   "source": [
    "a.update((60, 70))\n",
    "a"
   ]
  },
  {
   "cell_type": "markdown",
   "id": "348c3319-bc0b-46ff-ad48-838a57471e29",
   "metadata": {},
   "source": [
    "- For removing: set.remove(element) It will gives error when element not fount || set.discard(element) It will not give total set if element not found || set.pop() it will removes the element randomly"
   ]
  },
  {
   "cell_type": "code",
   "execution_count": 22,
   "id": "cf72a0fa-5970-4f62-b859-702974696d4b",
   "metadata": {},
   "outputs": [
    {
     "data": {
      "text/plain": [
       "{10, 20, 30, 40, 50, 60}"
      ]
     },
     "execution_count": 22,
     "metadata": {},
     "output_type": "execute_result"
    }
   ],
   "source": [
    "a.remove(70)\n",
    "a"
   ]
  },
  {
   "cell_type": "code",
   "execution_count": 23,
   "id": "6ff123d6-25d6-45dc-8d0a-e6fd8a6f7ebc",
   "metadata": {},
   "outputs": [
    {
     "ename": "KeyError",
     "evalue": "70",
     "output_type": "error",
     "traceback": [
      "\u001b[1;31m---------------------------------------------------------------------------\u001b[0m",
      "\u001b[1;31mKeyError\u001b[0m                                  Traceback (most recent call last)",
      "Cell \u001b[1;32mIn[23], line 1\u001b[0m\n\u001b[1;32m----> 1\u001b[0m a\u001b[38;5;241m.\u001b[39mremove(\u001b[38;5;241m70\u001b[39m)\n",
      "\u001b[1;31mKeyError\u001b[0m: 70"
     ]
    }
   ],
   "source": [
    "a.remove(70)"
   ]
  },
  {
   "cell_type": "code",
   "execution_count": 24,
   "id": "0d95f5f8-8f23-434f-90ed-3ed79bc2953a",
   "metadata": {},
   "outputs": [
    {
     "data": {
      "text/plain": [
       "{10, 20, 30, 40, 50}"
      ]
     },
     "execution_count": 24,
     "metadata": {},
     "output_type": "execute_result"
    }
   ],
   "source": [
    "a.discard(60)\n",
    "a"
   ]
  },
  {
   "cell_type": "code",
   "execution_count": 25,
   "id": "ccf3795a-a056-4543-9ece-65a01a5116a9",
   "metadata": {},
   "outputs": [
    {
     "data": {
      "text/plain": [
       "{10, 20, 30, 40, 50}"
      ]
     },
     "execution_count": 25,
     "metadata": {},
     "output_type": "execute_result"
    }
   ],
   "source": [
    "a.discard(60)\n",
    "a"
   ]
  },
  {
   "cell_type": "code",
   "execution_count": 26,
   "id": "1ee84630-405b-4762-8b59-34ee780dda04",
   "metadata": {},
   "outputs": [
    {
     "data": {
      "text/plain": [
       "40"
      ]
     },
     "execution_count": 26,
     "metadata": {},
     "output_type": "execute_result"
    }
   ],
   "source": [
    "a.pop()"
   ]
  },
  {
   "cell_type": "code",
   "execution_count": 27,
   "id": "ee1a5bd5-1e8f-4ef1-a842-cb838575cd5d",
   "metadata": {},
   "outputs": [
    {
     "data": {
      "text/plain": [
       "10"
      ]
     },
     "execution_count": 27,
     "metadata": {},
     "output_type": "execute_result"
    }
   ],
   "source": [
    "a.pop()"
   ]
  },
  {
   "cell_type": "code",
   "execution_count": 28,
   "id": "ec35f8fc-1b53-4285-a0ee-fd5b26223001",
   "metadata": {},
   "outputs": [
    {
     "data": {
      "text/plain": [
       "{20, 30, 50}"
      ]
     },
     "execution_count": 28,
     "metadata": {},
     "output_type": "execute_result"
    }
   ],
   "source": [
    "a"
   ]
  },
  {
   "cell_type": "markdown",
   "id": "f55d02c4-3956-4ee5-8fdd-75419d15e0bd",
   "metadata": {},
   "source": [
    "- #Matemetical set operations"
   ]
  },
  {
   "cell_type": "markdown",
   "id": "979d6602-d681-45e0-8fb5-b2cc1164b3ff",
   "metadata": {},
   "source": [
    "- Union set.union(set2) or set1 | set2 It will merge the two sets"
   ]
  },
  {
   "cell_type": "code",
   "execution_count": 31,
   "id": "52e0fd13-f263-423c-a533-710329a89217",
   "metadata": {},
   "outputs": [
    {
     "data": {
      "text/plain": [
       "{10, 20, 30, 40, 50}"
      ]
     },
     "execution_count": 31,
     "metadata": {},
     "output_type": "execute_result"
    }
   ],
   "source": [
    "b = {10, 40}\n",
    "c = a.union(b)\n",
    "c"
   ]
  },
  {
   "cell_type": "code",
   "execution_count": 32,
   "id": "8c16daa4-b1ca-4b0c-8b9e-6d7831a2d904",
   "metadata": {},
   "outputs": [
    {
     "data": {
      "text/plain": [
       "{10, 20, 30, 40, 50, 60, 70}"
      ]
     },
     "execution_count": 32,
     "metadata": {},
     "output_type": "execute_result"
    }
   ],
   "source": [
    "b = {50, 70, 60}\n",
    "a = b | c\n",
    "a"
   ]
  },
  {
   "cell_type": "markdown",
   "id": "deadc30c-a76b-489e-b1c4-41bb3f06a49f",
   "metadata": {},
   "source": [
    "- Intersetioon set1.intersetion(set2) or set1 & set2 it will print the unique elements in both sets"
   ]
  },
  {
   "cell_type": "code",
   "execution_count": 33,
   "id": "b3ce97ed-4fd7-4f3f-bb53-e005222d2748",
   "metadata": {},
   "outputs": [
    {
     "data": {
      "text/plain": [
       "{10, 20, 30, 40, 50}"
      ]
     },
     "execution_count": 33,
     "metadata": {},
     "output_type": "execute_result"
    }
   ],
   "source": [
    "a & c"
   ]
  },
  {
   "cell_type": "markdown",
   "id": "f6cbabbe-8571-412a-8647-ba38e5fc5d27",
   "metadata": {},
   "source": [
    "- Difference set1.difference(set2) or set1 - set2 it will remove the common elememts in set"
   ]
  },
  {
   "cell_type": "code",
   "execution_count": 35,
   "id": "096e8217-cfa8-4698-b4c1-3b4dc059b38e",
   "metadata": {},
   "outputs": [],
   "source": [
    "a = {10,20, 30, 40}\n",
    "b = {30, 40, 50, 60}"
   ]
  },
  {
   "cell_type": "code",
   "execution_count": 36,
   "id": "0f3ccd0b-1a91-4eaf-ba3b-71728b317f2c",
   "metadata": {},
   "outputs": [
    {
     "data": {
      "text/plain": [
       "{10, 20}"
      ]
     },
     "execution_count": 36,
     "metadata": {},
     "output_type": "execute_result"
    }
   ],
   "source": [
    "a - b"
   ]
  },
  {
   "cell_type": "code",
   "execution_count": 38,
   "id": "7e2393fa-b683-43cb-9a35-4959907bf0da",
   "metadata": {},
   "outputs": [
    {
     "data": {
      "text/plain": [
       "{50, 60}"
      ]
     },
     "execution_count": 38,
     "metadata": {},
     "output_type": "execute_result"
    }
   ],
   "source": [
    "b.difference(a)"
   ]
  },
  {
   "cell_type": "markdown",
   "id": "781cbb79-eee4-49df-9689-120ef30d994c",
   "metadata": {},
   "source": [
    "- Symmetric difference set1.symmetric_difference(set2) or set1 ^ set2 It will returns all ulique elements in both the sets"
   ]
  },
  {
   "cell_type": "code",
   "execution_count": 39,
   "id": "9c089101-c82d-484b-bf6d-a7222ffeb2bb",
   "metadata": {},
   "outputs": [
    {
     "data": {
      "text/plain": [
       "{10, 20, 50, 60}"
      ]
     },
     "execution_count": 39,
     "metadata": {},
     "output_type": "execute_result"
    }
   ],
   "source": [
    "a.symmetric_difference(b)"
   ]
  },
  {
   "cell_type": "code",
   "execution_count": 40,
   "id": "ab8405be-84ef-45b3-884c-547dd99b242a",
   "metadata": {},
   "outputs": [
    {
     "data": {
      "text/plain": [
       "{10, 20, 50, 60}"
      ]
     },
     "execution_count": 40,
     "metadata": {},
     "output_type": "execute_result"
    }
   ],
   "source": [
    "a ^ b"
   ]
  },
  {
   "cell_type": "markdown",
   "id": "7138d1b1-d8ec-415e-9da7-d65a28aa7f68",
   "metadata": {},
   "source": [
    "- Subset"
   ]
  },
  {
   "cell_type": "code",
   "execution_count": 42,
   "id": "f95d89a4-5e07-47f3-8c85-f4277e679e65",
   "metadata": {},
   "outputs": [
    {
     "data": {
      "text/plain": [
       "True"
      ]
     },
     "execution_count": 42,
     "metadata": {},
     "output_type": "execute_result"
    }
   ],
   "source": [
    "a = {1, 2}\n",
    "b = {1, 2, 3, 4}\n",
    "a.issubset(b)"
   ]
  },
  {
   "cell_type": "markdown",
   "id": "4d596a66-d63c-4e4c-8916-8291fc48ef01",
   "metadata": {},
   "source": [
    "- Superset"
   ]
  },
  {
   "cell_type": "code",
   "execution_count": 45,
   "id": "843cdea9-0763-4fd8-846b-db093844f438",
   "metadata": {},
   "outputs": [
    {
     "data": {
      "text/plain": [
       "False"
      ]
     },
     "execution_count": 45,
     "metadata": {},
     "output_type": "execute_result"
    }
   ],
   "source": [
    "a.issuperset(b)"
   ]
  },
  {
   "cell_type": "markdown",
   "id": "7a787883-a24a-440b-a03e-b899d8c0df63",
   "metadata": {},
   "source": [
    "- Disjoint"
   ]
  },
  {
   "cell_type": "code",
   "execution_count": 47,
   "id": "fc577e64-162d-470f-a356-bb0bcbe23b66",
   "metadata": {},
   "outputs": [
    {
     "data": {
      "text/plain": [
       "False"
      ]
     },
     "execution_count": 47,
     "metadata": {},
     "output_type": "execute_result"
    }
   ],
   "source": [
    "a.isdisjoint(b)"
   ]
  },
  {
   "cell_type": "markdown",
   "id": "806594dd-d821-47ea-af99-9f2c3b893d6b",
   "metadata": {},
   "source": [
    "---------------------------------------------------------------------------------------------------------------------------------------"
   ]
  },
  {
   "cell_type": "code",
   "execution_count": 48,
   "id": "d623f798-080f-4574-b28a-d17420e86027",
   "metadata": {},
   "outputs": [
    {
     "data": {
      "text/plain": [
       "{1, 2, 3, 4, 5, 6}"
      ]
     },
     "execution_count": 48,
     "metadata": {},
     "output_type": "execute_result"
    }
   ],
   "source": [
    "a = {1, 2, 3}\n",
    "b = {4, 5, 6}\n",
    "a |b"
   ]
  },
  {
   "cell_type": "code",
   "execution_count": 49,
   "id": "ff986619-10a9-4d48-8f8f-5d5278806f6a",
   "metadata": {},
   "outputs": [
    {
     "data": {
      "text/plain": [
       "{1, 2, 3, 4}"
      ]
     },
     "execution_count": 49,
     "metadata": {},
     "output_type": "execute_result"
    }
   ],
   "source": [
    "a.add(4)\n",
    "a"
   ]
  },
  {
   "cell_type": "code",
   "execution_count": 50,
   "id": "0bab5bfd-8f23-480f-9a10-b3a44296581c",
   "metadata": {},
   "outputs": [
    {
     "data": {
      "text/plain": [
       "{4, 5}"
      ]
     },
     "execution_count": 50,
     "metadata": {},
     "output_type": "execute_result"
    }
   ],
   "source": [
    "b.discard(6)\n",
    "b"
   ]
  },
  {
   "cell_type": "code",
   "execution_count": 51,
   "id": "4ba15954-8d41-4cd6-8b6f-15b442038397",
   "metadata": {},
   "outputs": [
    {
     "data": {
      "text/plain": [
       "True"
      ]
     },
     "execution_count": 51,
     "metadata": {},
     "output_type": "execute_result"
    }
   ],
   "source": [
    "a = {1, 2}\n",
    "b = {1, 2, 3, 4}\n",
    "a.issubset(b)"
   ]
  },
  {
   "cell_type": "code",
   "execution_count": 52,
   "id": "db78653d-1e73-41ab-b52e-8761c20258ab",
   "metadata": {},
   "outputs": [
    {
     "data": {
      "text/plain": [
       "{20}"
      ]
     },
     "execution_count": 52,
     "metadata": {},
     "output_type": "execute_result"
    }
   ],
   "source": [
    "a = {10, 20, 30}\n",
    "b = {20, 40, 50}\n",
    "a & b"
   ]
  },
  {
   "cell_type": "code",
   "execution_count": 53,
   "id": "f8513b8d-0938-4af8-b9f4-383c32cf8164",
   "metadata": {},
   "outputs": [
    {
     "data": {
      "text/plain": [
       "{1, 4, 5}"
      ]
     },
     "execution_count": 53,
     "metadata": {},
     "output_type": "execute_result"
    }
   ],
   "source": [
    "a = {1, 2, 3}\n",
    "b = {2, 3, 4, 5}\n",
    "a ^ b"
   ]
  },
  {
   "cell_type": "code",
   "execution_count": 54,
   "id": "4666b288-831a-4824-a4e5-c62974a5398e",
   "metadata": {},
   "outputs": [
    {
     "data": {
      "text/plain": [
       "False"
      ]
     },
     "execution_count": 54,
     "metadata": {},
     "output_type": "execute_result"
    }
   ],
   "source": [
    "a.isdisjoint(b)"
   ]
  },
  {
   "cell_type": "code",
   "execution_count": 55,
   "id": "9c8b92c5-7259-44ca-ace1-30621bce8071",
   "metadata": {},
   "outputs": [
    {
     "data": {
      "text/plain": [
       "set()"
      ]
     },
     "execution_count": 55,
     "metadata": {},
     "output_type": "execute_result"
    }
   ],
   "source": [
    "for i in range(len(b)):\n",
    "    b.pop()\n",
    "b"
   ]
  },
  {
   "cell_type": "code",
   "execution_count": 56,
   "id": "7d75c3e5-65a4-4ba5-950f-e90e9971db16",
   "metadata": {},
   "outputs": [
    {
     "data": {
      "text/plain": [
       "{5}"
      ]
     },
     "execution_count": 56,
     "metadata": {},
     "output_type": "execute_result"
    }
   ],
   "source": [
    "a = {1, 2, 3, 4, 5}\n",
    "b = {4, 5, 6, 7, 8}\n",
    "c = {5, 8, 9, 10, 11}\n",
    "a & b & c"
   ]
  },
  {
   "cell_type": "code",
   "execution_count": 57,
   "id": "eae775c4-71a0-4772-8e8a-28f8627d910c",
   "metadata": {},
   "outputs": [
    {
     "data": {
      "text/plain": [
       "{'e', 'i', 'o'}"
      ]
     },
     "execution_count": 57,
     "metadata": {},
     "output_type": "execute_result"
    }
   ],
   "source": [
    "l = [\"a\", \"e\", \"i\", \"o\", \"u\"]\n",
    "s = \"hello hi everyone\"\n",
    "a = set()\n",
    "for i in s:\n",
    "    if i in l:\n",
    "        a.add(i)\n",
    "a"
   ]
  },
  {
   "cell_type": "code",
   "execution_count": 58,
   "id": "e50da3f5-68d6-4a36-9fa5-d50ecdcf0d7e",
   "metadata": {},
   "outputs": [
    {
     "data": {
      "text/plain": [
       "{1, 2, 5, 8, 9}"
      ]
     },
     "execution_count": 58,
     "metadata": {},
     "output_type": "execute_result"
    }
   ],
   "source": [
    "l = [1, 5, 2, 8, 5, 1, 9, 2]\n",
    "seen = set()\n",
    "for i in l:\n",
    "    if i not in seen:\n",
    "        seen.add(i)\n",
    "seen"
   ]
  },
  {
   "cell_type": "code",
   "execution_count": null,
   "id": "771f5771-b7ce-40f9-9a91-46fa245f4b03",
   "metadata": {},
   "outputs": [],
   "source": []
  }
 ],
 "metadata": {
  "kernelspec": {
   "display_name": "Python 3 (ipykernel)",
   "language": "python",
   "name": "python3"
  },
  "language_info": {
   "codemirror_mode": {
    "name": "ipython",
    "version": 3
   },
   "file_extension": ".py",
   "mimetype": "text/x-python",
   "name": "python",
   "nbconvert_exporter": "python",
   "pygments_lexer": "ipython3",
   "version": "3.13.5"
  }
 },
 "nbformat": 4,
 "nbformat_minor": 5
}
