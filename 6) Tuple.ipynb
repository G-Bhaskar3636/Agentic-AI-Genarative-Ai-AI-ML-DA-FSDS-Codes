{
 "cells": [
  {
   "cell_type": "markdown",
   "id": "cdb81049-75c9-43c5-aeb3-12959f9f1979",
   "metadata": {},
   "source": [
    "# Tuple"
   ]
  },
  {
   "cell_type": "markdown",
   "id": "4467a5a0-58ce-473d-a498-b1d26ffcbce8",
   "metadata": {},
   "source": [
    "- The elements in mit will maintain the order\n",
    "- Immutable, once defined the elements in it will not changes\n",
    "- Heterogeneous, it can store the different data types in it\n",
    "- Indexing can be possible"
   ]
  },
  {
   "cell_type": "markdown",
   "id": "5c0b69a0-2984-4b22-a6d2-ef277fbd545e",
   "metadata": {},
   "source": [
    "--------------------------------------------------------------------------------------------------------------------------------------"
   ]
  },
  {
   "cell_type": "code",
   "execution_count": 32,
   "id": "9431548b-32c6-4d33-800b-0fdaacd27833",
   "metadata": {},
   "outputs": [
    {
     "data": {
      "text/plain": [
       "(1, 2, 3, 4, 5)"
      ]
     },
     "execution_count": 32,
     "metadata": {},
     "output_type": "execute_result"
    }
   ],
   "source": [
    "a = (1, 2, 3, 4, 5)\n",
    "a"
   ]
  },
  {
   "cell_type": "code",
   "execution_count": 33,
   "id": "9a6d98de-7647-4c9b-94f4-d16fe0dfc579",
   "metadata": {},
   "outputs": [
    {
     "ename": "AttributeError",
     "evalue": "'tuple' object has no attribute 'add'",
     "output_type": "error",
     "traceback": [
      "\u001b[1;31m---------------------------------------------------------------------------\u001b[0m",
      "\u001b[1;31mAttributeError\u001b[0m                            Traceback (most recent call last)",
      "Cell \u001b[1;32mIn[33], line 1\u001b[0m\n\u001b[1;32m----> 1\u001b[0m a\u001b[38;5;241m.\u001b[39madd(\u001b[38;5;241m6\u001b[39m)\n\u001b[0;32m      2\u001b[0m a\n",
      "\u001b[1;31mAttributeError\u001b[0m: 'tuple' object has no attribute 'add'"
     ]
    }
   ],
   "source": [
    "a.add(6)\n",
    "a"
   ]
  },
  {
   "cell_type": "code",
   "execution_count": 34,
   "id": "6c004031-2693-4553-b726-ac41da79b691",
   "metadata": {},
   "outputs": [
    {
     "data": {
      "text/plain": [
       "(1, 2, 3, 4, 5, 6)"
      ]
     },
     "execution_count": 34,
     "metadata": {},
     "output_type": "execute_result"
    }
   ],
   "source": [
    "b = list(a)\n",
    "b.append(6)\n",
    "a = tuple(b)\n",
    "a"
   ]
  },
  {
   "cell_type": "code",
   "execution_count": null,
   "id": "4c05db60-2c56-4932-92b0-a3224b79d2b3",
   "metadata": {},
   "outputs": [],
   "source": []
  },
  {
   "cell_type": "markdown",
   "id": "672d44fe-5d01-4546-8913-adc95a02d5a8",
   "metadata": {},
   "source": [
    "- enumerate(tuple) it will gives the index and element"
   ]
  },
  {
   "cell_type": "code",
   "execution_count": 35,
   "id": "793b8103-bd0e-4381-8ea1-f2611a5be193",
   "metadata": {},
   "outputs": [
    {
     "name": "stdout",
     "output_type": "stream",
     "text": [
      "(0, 1)\n",
      "(1, 2)\n",
      "(2, 3)\n",
      "(3, 4)\n",
      "(4, 5)\n",
      "(5, 6)\n"
     ]
    }
   ],
   "source": [
    "for i in enumerate(a):\n",
    "    print(i)"
   ]
  },
  {
   "cell_type": "code",
   "execution_count": 36,
   "id": "d5056567-79c7-4842-abb3-057150b39fe4",
   "metadata": {},
   "outputs": [
    {
     "name": "stdout",
     "output_type": "stream",
     "text": [
      "4\n"
     ]
    }
   ],
   "source": [
    "print(a.index(5))"
   ]
  },
  {
   "cell_type": "code",
   "execution_count": 37,
   "id": "a8e3d1e6-2fa1-4a7f-bd13-a594807ff811",
   "metadata": {},
   "outputs": [
    {
     "data": {
      "text/plain": [
       "True"
      ]
     },
     "execution_count": 37,
     "metadata": {},
     "output_type": "execute_result"
    }
   ],
   "source": [
    "3 in a"
   ]
  },
  {
   "cell_type": "code",
   "execution_count": 38,
   "id": "e47208ec-81d1-4354-aaf5-d9d0a2436b81",
   "metadata": {},
   "outputs": [
    {
     "data": {
      "text/plain": [
       "(1, 2, 3, 4, 5, 6)"
      ]
     },
     "execution_count": 38,
     "metadata": {},
     "output_type": "execute_result"
    }
   ],
   "source": [
    "a = (1, 2, 3)\n",
    "b = (4, 5, 6)\n",
    "c = a + b\n",
    "c"
   ]
  },
  {
   "cell_type": "code",
   "execution_count": 39,
   "id": "b155f99c-f377-46a7-b1f6-5c6d6b2aa4a7",
   "metadata": {},
   "outputs": [
    {
     "data": {
      "text/plain": [
       "21"
      ]
     },
     "execution_count": 39,
     "metadata": {},
     "output_type": "execute_result"
    }
   ],
   "source": [
    "b = sum(c)\n",
    "b"
   ]
  },
  {
   "cell_type": "code",
   "execution_count": 40,
   "id": "9e452312-dac5-48d9-978c-a9259ec2826a",
   "metadata": {},
   "outputs": [
    {
     "data": {
      "text/plain": [
       "(1, 4, 9, 16, 25, 36)"
      ]
     },
     "execution_count": 40,
     "metadata": {},
     "output_type": "execute_result"
    }
   ],
   "source": [
    "a = list(c)\n",
    "for i in range(len(a)):\n",
    "    a[i] *= a[i]\n",
    "b = tuple(a)\n",
    "b"
   ]
  },
  {
   "cell_type": "code",
   "execution_count": 41,
   "id": "703bf108-0e59-4d50-a11d-6c142711476e",
   "metadata": {},
   "outputs": [
    {
     "name": "stdout",
     "output_type": "stream",
     "text": [
      "The entire tuple is not even\n"
     ]
    }
   ],
   "source": [
    "for i in a:\n",
    "    if i%2 != 0:\n",
    "        print(\"The entire tuple is not even\")\n",
    "        break\n",
    "    else:\n",
    "        print(\"The entire tuple is even\")"
   ]
  },
  {
   "cell_type": "code",
   "execution_count": 42,
   "id": "f7889ea5-a077-4908-9abf-5f660315d716",
   "metadata": {},
   "outputs": [
    {
     "name": "stdout",
     "output_type": "stream",
     "text": [
      "1\n",
      "[4, 9, 16, 25]\n",
      "36\n"
     ]
    }
   ],
   "source": [
    "v1, *v2, v3 = b\n",
    "print(v1)\n",
    "print(v2)\n",
    "print(v3)"
   ]
  },
  {
   "cell_type": "code",
   "execution_count": 43,
   "id": "3b6968a7-09c3-4bcf-908c-71f4bad23009",
   "metadata": {},
   "outputs": [
    {
     "data": {
      "text/plain": [
       "{1: 1, 2: 3, 3: 1, 4: 1, 5: 1}"
      ]
     },
     "execution_count": 43,
     "metadata": {},
     "output_type": "execute_result"
    }
   ],
   "source": [
    "c = (1, 2, 2, 3, 4, 2, 5)\n",
    "seen = {}\n",
    "for i in c:\n",
    "    if i in seen:\n",
    "        seen[i] += 1\n",
    "    else:\n",
    "        seen[i] = 1\n",
    "seen"
   ]
  },
  {
   "cell_type": "code",
   "execution_count": 44,
   "id": "ae368d08-2ae7-41ff-9854-69fc2a87de4e",
   "metadata": {},
   "outputs": [
    {
     "data": {
      "text/plain": [
       "(1, 2, 3, 4, 5, 6)"
      ]
     },
     "execution_count": 44,
     "metadata": {},
     "output_type": "execute_result"
    }
   ],
   "source": [
    "a = ((1, 2), (3, 4), (5, 6))\n",
    "d = [i for ti in a for i in ti]\n",
    "c = tuple(d)\n",
    "c"
   ]
  },
  {
   "cell_type": "code",
   "execution_count": 45,
   "id": "05e3ba8a-aaa8-4ff4-8c6b-ee91d09fc3db",
   "metadata": {},
   "outputs": [
    {
     "data": {
      "text/plain": [
       "[('kivi', 1), ('apple', 2), ('banana', 3)]"
      ]
     },
     "execution_count": 45,
     "metadata": {},
     "output_type": "execute_result"
    }
   ],
   "source": [
    "a = [(\"apple\", 2), (\"banana\", 3), (\"kivi\", 1)]\n",
    "a.sort(key = lambda x:x[1])\n",
    "a"
   ]
  },
  {
   "cell_type": "code",
   "execution_count": 46,
   "id": "ac0d5815-de62-4550-abc9-b5dd9c1b1f84",
   "metadata": {},
   "outputs": [
    {
     "data": {
      "text/plain": [
       "(1, 2, 3, 4)"
      ]
     },
     "execution_count": 46,
     "metadata": {},
     "output_type": "execute_result"
    }
   ],
   "source": [
    "b = (1, 2, 3, 4, 3, 3, 2, 1, 4)\n",
    "c = []\n",
    "for i in b:\n",
    "    if i not in c:\n",
    "        c.append(i)\n",
    "d = tuple(c)\n",
    "d"
   ]
  },
  {
   "cell_type": "code",
   "execution_count": 47,
   "id": "601119db-b02e-45ea-9f78-c4f0e5d0d635",
   "metadata": {},
   "outputs": [
    {
     "data": {
      "text/plain": [
       "'papaya'"
      ]
     },
     "execution_count": 47,
     "metadata": {},
     "output_type": "execute_result"
    }
   ],
   "source": [
    "a = (\"apple\", \"banana\", \"kivi\", \"papaya\")\n",
    "b = list(a)\n",
    "b.sort(key = len)\n",
    "b[-1]"
   ]
  },
  {
   "cell_type": "code",
   "execution_count": null,
   "id": "833df89d-6e31-4b38-b256-12e123e9c173",
   "metadata": {},
   "outputs": [],
   "source": []
  }
 ],
 "metadata": {
  "kernelspec": {
   "display_name": "Python 3 (ipykernel)",
   "language": "python",
   "name": "python3"
  },
  "language_info": {
   "codemirror_mode": {
    "name": "ipython",
    "version": 3
   },
   "file_extension": ".py",
   "mimetype": "text/x-python",
   "name": "python",
   "nbconvert_exporter": "python",
   "pygments_lexer": "ipython3",
   "version": "3.13.5"
  }
 },
 "nbformat": 4,
 "nbformat_minor": 5
}
