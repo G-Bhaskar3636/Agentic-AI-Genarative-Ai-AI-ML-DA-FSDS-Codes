{
 "cells": [
  {
   "cell_type": "markdown",
   "id": "417ffb91-b4b3-4257-ac9c-fea4b81528e6",
   "metadata": {},
   "source": [
    "# List Data Structure\n",
    "- In the list the order starts with 0 ends with (n-1)\n",
    "- List  are mutable\n",
    "- Dublicater are allowed\n",
    "- Hetrogeneous(we can store the different datatypes in it)"
   ]
  },
  {
   "cell_type": "markdown",
   "id": "090f5bbc-7d54-43d9-bac2-717a2e6e2fe0",
   "metadata": {},
   "source": [
    "-------------------------------------------------------------------------------------------------------------------------------------------"
   ]
  },
  {
   "cell_type": "code",
   "execution_count": 172,
   "id": "767f1a0d-a0fe-4852-8d21-f5ec8544e750",
   "metadata": {},
   "outputs": [],
   "source": [
    "a = [10, 20, 30]"
   ]
  },
  {
   "cell_type": "code",
   "execution_count": 173,
   "id": "a79a130f-9cb3-484e-9b4a-34c670c0e713",
   "metadata": {},
   "outputs": [
    {
     "data": {
      "text/plain": [
       "[10, 20, 30, 50]"
      ]
     },
     "execution_count": 173,
     "metadata": {},
     "output_type": "execute_result"
    }
   ],
   "source": [
    "a.append(50)\n",
    "a"
   ]
  },
  {
   "cell_type": "code",
   "execution_count": 174,
   "id": "7d1f2fe0-8220-4e98-aefd-cfecbf3d8d98",
   "metadata": {},
   "outputs": [
    {
     "data": {
      "text/plain": [
       "[10, 20, 30, 50, 40]"
      ]
     },
     "execution_count": 174,
     "metadata": {},
     "output_type": "execute_result"
    }
   ],
   "source": [
    "a.insert(4, 40)\n",
    "a"
   ]
  },
  {
   "cell_type": "markdown",
   "id": "6c78e18c-b27f-4a83-86ca-0c03a550451b",
   "metadata": {},
   "source": [
    "- for removind || li.remove(value) removes the menshioned value || li.pop(optional index) removes menshoined value if not menshioned removes last element"
   ]
  },
  {
   "cell_type": "code",
   "execution_count": 175,
   "id": "20497b3f-8a7b-4728-91bc-f9beafd97550",
   "metadata": {},
   "outputs": [
    {
     "data": {
      "text/plain": [
       "[10, 20, 30, 40]"
      ]
     },
     "execution_count": 175,
     "metadata": {},
     "output_type": "execute_result"
    }
   ],
   "source": [
    "a.remove(50)\n",
    "a"
   ]
  },
  {
   "cell_type": "code",
   "execution_count": 176,
   "id": "9525b74b-5aae-4318-8d04-804751710417",
   "metadata": {},
   "outputs": [
    {
     "data": {
      "text/plain": [
       "40"
      ]
     },
     "execution_count": 176,
     "metadata": {},
     "output_type": "execute_result"
    }
   ],
   "source": [
    "a.pop()"
   ]
  },
  {
   "cell_type": "code",
   "execution_count": 177,
   "id": "ad93e437-2eae-4494-80f7-c02e4ceabae3",
   "metadata": {},
   "outputs": [
    {
     "data": {
      "text/plain": [
       "30"
      ]
     },
     "execution_count": 177,
     "metadata": {},
     "output_type": "execute_result"
    }
   ],
   "source": [
    "a.pop(2)"
   ]
  },
  {
   "cell_type": "code",
   "execution_count": 178,
   "id": "175b03e1-e7d8-4e7e-984c-881fb1a891cf",
   "metadata": {},
   "outputs": [
    {
     "data": {
      "text/plain": [
       "[10, 20]"
      ]
     },
     "execution_count": 178,
     "metadata": {},
     "output_type": "execute_result"
    }
   ],
   "source": [
    "a"
   ]
  },
  {
   "cell_type": "markdown",
   "id": "f3541a1c-7467-43ed-a7ae-94291bf96737",
   "metadata": {},
   "source": [
    "- li.clear() it will delete the all elements in the list and returns empty list"
   ]
  },
  {
   "cell_type": "code",
   "execution_count": 179,
   "id": "9aa734f8-e230-4d5f-b056-326c141683bc",
   "metadata": {},
   "outputs": [
    {
     "data": {
      "text/plain": [
       "[]"
      ]
     },
     "execution_count": 179,
     "metadata": {},
     "output_type": "execute_result"
    }
   ],
   "source": [
    "a.clear()\n",
    "a"
   ]
  },
  {
   "cell_type": "markdown",
   "id": "af70836c-9de2-4b13-8ce3-4e36d873ab14",
   "metadata": {},
   "source": [
    "- del li it will delete the list"
   ]
  },
  {
   "cell_type": "code",
   "execution_count": 180,
   "id": "f333efd5-c357-46f8-9328-edd54bace98d",
   "metadata": {},
   "outputs": [],
   "source": [
    "del a"
   ]
  },
  {
   "cell_type": "code",
   "execution_count": 181,
   "id": "9d060f92-04c5-4daf-aa52-437b44173953",
   "metadata": {},
   "outputs": [
    {
     "ename": "NameError",
     "evalue": "name 'a' is not defined",
     "output_type": "error",
     "traceback": [
      "\u001b[1;31m---------------------------------------------------------------------------\u001b[0m",
      "\u001b[1;31mNameError\u001b[0m                                 Traceback (most recent call last)",
      "Cell \u001b[1;32mIn[181], line 1\u001b[0m\n\u001b[1;32m----> 1\u001b[0m a\n",
      "\u001b[1;31mNameError\u001b[0m: name 'a' is not defined"
     ]
    }
   ],
   "source": [
    "a"
   ]
  },
  {
   "cell_type": "markdown",
   "id": "6b43f948-3d3b-4de3-9343-d23ea492bed0",
   "metadata": {},
   "source": [
    "- li.index(value) it will gives the index no of menshioned value"
   ]
  },
  {
   "cell_type": "code",
   "execution_count": 182,
   "id": "7ca28446-ab4a-4186-bbda-872d3e669eca",
   "metadata": {},
   "outputs": [],
   "source": [
    "a = [1, 2, 3, 4, 5]"
   ]
  },
  {
   "cell_type": "code",
   "execution_count": 183,
   "id": "80fbd22a-cbd5-4979-a4e8-53b400b09d87",
   "metadata": {},
   "outputs": [
    {
     "data": {
      "text/plain": [
       "3"
      ]
     },
     "execution_count": 183,
     "metadata": {},
     "output_type": "execute_result"
    }
   ],
   "source": [
    "a.index(4)"
   ]
  },
  {
   "cell_type": "markdown",
   "id": "8b9227e2-83ab-4de2-9e05-cb903e2593a3",
   "metadata": {},
   "source": [
    "- enumarate it will gives the index of values"
   ]
  },
  {
   "cell_type": "code",
   "execution_count": 184,
   "id": "98cda359-77c2-4f20-b39d-a566b4beb97e",
   "metadata": {},
   "outputs": [
    {
     "name": "stdout",
     "output_type": "stream",
     "text": [
      "(0, 1)\n",
      "(1, 2)\n",
      "(2, 3)\n",
      "(3, 4)\n",
      "(4, 5)\n"
     ]
    }
   ],
   "source": [
    "for i in enumerate(a):\n",
    "    print(i)"
   ]
  },
  {
   "cell_type": "markdown",
   "id": "bdeba0b5-dfc7-43fb-9b52-60bbe1d56185",
   "metadata": {},
   "source": [
    "- li.copy() shallo copy"
   ]
  },
  {
   "cell_type": "code",
   "execution_count": 185,
   "id": "63df38a8-e608-4d55-97be-392250e4ed4c",
   "metadata": {},
   "outputs": [],
   "source": [
    "b = a"
   ]
  },
  {
   "cell_type": "code",
   "execution_count": 186,
   "id": "c20a7826-9ec2-418e-991b-63e1e9b82d60",
   "metadata": {},
   "outputs": [
    {
     "name": "stdout",
     "output_type": "stream",
     "text": [
      "2494029437312\n",
      "2494029437312\n"
     ]
    }
   ],
   "source": [
    "print(id(a))\n",
    "print(id(b))"
   ]
  },
  {
   "cell_type": "markdown",
   "id": "dee10e21-6dbb-4c2b-9f58-17bda3a743a3",
   "metadata": {},
   "source": [
    "- li.count(value) shows count of the value in list"
   ]
  },
  {
   "cell_type": "code",
   "execution_count": 187,
   "id": "d3a1aca1-ee44-44ab-bdab-c13358fb848e",
   "metadata": {},
   "outputs": [
    {
     "data": {
      "text/plain": [
       "1"
      ]
     },
     "execution_count": 187,
     "metadata": {},
     "output_type": "execute_result"
    }
   ],
   "source": [
    "b.count(2)"
   ]
  },
  {
   "cell_type": "markdown",
   "id": "a95c1499-45ad-4e22-8c5d-8cc8959f712e",
   "metadata": {},
   "source": [
    "- li.reverse() it will reverst the list"
   ]
  },
  {
   "cell_type": "code",
   "execution_count": 188,
   "id": "752596a1-9e00-4211-9719-d0b0082a7899",
   "metadata": {},
   "outputs": [
    {
     "name": "stdout",
     "output_type": "stream",
     "text": [
      "[5, 4, 3, 2, 1]\n",
      "[5, 4, 3, 2, 1]\n"
     ]
    }
   ],
   "source": [
    "a.reverse()\n",
    "print(a)\n",
    "print(b)"
   ]
  },
  {
   "cell_type": "markdown",
   "id": "f50a82b8-a5ab-46e1-82e3-e2d176315d9c",
   "metadata": {},
   "source": [
    "- li.extend(l1) it will merge the another list into li"
   ]
  },
  {
   "cell_type": "code",
   "execution_count": 189,
   "id": "85275ecd-ed8d-46ad-b9b2-2b016fb38936",
   "metadata": {},
   "outputs": [
    {
     "data": {
      "text/plain": [
       "[5, 4, 3, 2, 1, 5, 4, 3, 2, 1]"
      ]
     },
     "execution_count": 189,
     "metadata": {},
     "output_type": "execute_result"
    }
   ],
   "source": [
    "a.extend(b)\n",
    "a"
   ]
  },
  {
   "cell_type": "markdown",
   "id": "3811387d-c788-490b-a5eb-f26b71395519",
   "metadata": {},
   "source": [
    "- li.sort() sort the li in ascending order"
   ]
  },
  {
   "cell_type": "code",
   "execution_count": 190,
   "id": "7e338ce3-93ee-48d0-a3ef-aafd1cf2011a",
   "metadata": {},
   "outputs": [
    {
     "data": {
      "text/plain": [
       "[1, 1, 2, 2, 3, 3, 4, 4, 5, 5]"
      ]
     },
     "execution_count": 190,
     "metadata": {},
     "output_type": "execute_result"
    }
   ],
   "source": [
    "a.sort()\n",
    "a"
   ]
  },
  {
   "cell_type": "markdown",
   "id": "5d3cf793-11bd-4799-afae-3f9680b15ebc",
   "metadata": {},
   "source": [
    "-------------------------------------------------------------------------------------------------------------------------------------------"
   ]
  },
  {
   "cell_type": "code",
   "execution_count": null,
   "id": "93747f64-0603-4fb8-a6e3-409753c46db0",
   "metadata": {},
   "outputs": [],
   "source": []
  },
  {
   "cell_type": "code",
   "execution_count": 192,
   "id": "f07198a7-fad8-4fe0-b4c2-f8b53aed1b37",
   "metadata": {},
   "outputs": [
    {
     "data": {
      "text/plain": [
       "['apple', 'banana', 'dragon', 'kivi', 'papaya']"
      ]
     },
     "execution_count": 192,
     "metadata": {},
     "output_type": "execute_result"
    }
   ],
   "source": [
    "l = [\"apple\", \"banana\", \"dragon\", \"kivi\", \"papaya\"]\n",
    "l"
   ]
  },
  {
   "cell_type": "code",
   "execution_count": 193,
   "id": "240c7fe6-e64f-4cb0-ab74-54093fb7280c",
   "metadata": {},
   "outputs": [
    {
     "data": {
      "text/plain": [
       "['apple', 'banana', 'dragon', 'kivi', 'papaya', 'mango']"
      ]
     },
     "execution_count": 193,
     "metadata": {},
     "output_type": "execute_result"
    }
   ],
   "source": [
    "l.append(\"mango\")\n",
    "l"
   ]
  },
  {
   "cell_type": "code",
   "execution_count": 194,
   "id": "35e6ef26-4420-4f69-847e-ad568c21de02",
   "metadata": {},
   "outputs": [
    {
     "data": {
      "text/plain": [
       "['banana', 'dragon', 'kivi', 'papaya', 'mango']"
      ]
     },
     "execution_count": 194,
     "metadata": {},
     "output_type": "execute_result"
    }
   ],
   "source": [
    "l.remove(\"apple\")\n",
    "l"
   ]
  },
  {
   "cell_type": "code",
   "execution_count": 195,
   "id": "f2a226fa-90b0-43df-9ed4-59a23bc3afd4",
   "metadata": {},
   "outputs": [
    {
     "data": {
      "text/plain": [
       "[4, 8, 12, 16]"
      ]
     },
     "execution_count": 195,
     "metadata": {},
     "output_type": "execute_result"
    }
   ],
   "source": [
    "n = [2, 4, 6, 8]\n",
    "for i in range(len(n)):\n",
    "    n[i] *= 2\n",
    "n"
   ]
  },
  {
   "cell_type": "code",
   "execution_count": 196,
   "id": "e63a6bb8-2ead-48d2-b3f1-74c40755d8fe",
   "metadata": {},
   "outputs": [
    {
     "name": "stdout",
     "output_type": "stream",
     "text": [
      "40\n",
      "5\n"
     ]
    }
   ],
   "source": [
    "n = [10, 20, 5, 40, 15]\n",
    "print(max(n))\n",
    "print(min(n))"
   ]
  },
  {
   "cell_type": "code",
   "execution_count": 197,
   "id": "5aa57a1c-8ae3-42d7-8524-dc9368220c18",
   "metadata": {},
   "outputs": [
    {
     "data": {
      "text/plain": [
       "True"
      ]
     },
     "execution_count": 197,
     "metadata": {},
     "output_type": "execute_result"
    }
   ],
   "source": [
    "20 in n"
   ]
  },
  {
   "cell_type": "code",
   "execution_count": 198,
   "id": "48b4c7bd-489b-4586-829c-e3ffda9629a8",
   "metadata": {},
   "outputs": [
    {
     "data": {
      "text/plain": [
       "[1, 2, 3, 4, 5]"
      ]
     },
     "execution_count": 198,
     "metadata": {},
     "output_type": "execute_result"
    }
   ],
   "source": [
    "l = [1, 2, 3, 2, 1, 4, 5, 1]\n",
    "s = list(set(l))\n",
    "s"
   ]
  },
  {
   "cell_type": "code",
   "execution_count": 199,
   "id": "abd320c6-0330-4496-bbdc-a53bb7798002",
   "metadata": {},
   "outputs": [
    {
     "data": {
      "text/plain": [
       "25"
      ]
     },
     "execution_count": 199,
     "metadata": {},
     "output_type": "execute_result"
    }
   ],
   "source": [
    "n = [10, 25, 8, 32, 15]\n",
    "one, two = 0, 0\n",
    "for i in n:\n",
    "    if i > one:\n",
    "        two = one\n",
    "        one = i\n",
    "two"
   ]
  },
  {
   "cell_type": "code",
   "execution_count": 200,
   "id": "142d3386-46aa-427b-b159-0ec19c998993",
   "metadata": {},
   "outputs": [
    {
     "data": {
      "text/plain": [
       "[15, 32, 8, 25, 10]"
      ]
     },
     "execution_count": 200,
     "metadata": {},
     "output_type": "execute_result"
    }
   ],
   "source": [
    "n[::-1]"
   ]
  },
  {
   "cell_type": "code",
   "execution_count": 201,
   "id": "6b79d354-8008-4c22-9c1b-9b37fba5e40a",
   "metadata": {},
   "outputs": [
    {
     "data": {
      "text/plain": [
       "[10, 25, 8, 32, 15, 1, 2, 3, 2, 1, 4, 5, 1]"
      ]
     },
     "execution_count": 201,
     "metadata": {},
     "output_type": "execute_result"
    }
   ],
   "source": [
    "n.extend(l)\n",
    "l = list(set(n))\n",
    "n"
   ]
  },
  {
   "cell_type": "code",
   "execution_count": 202,
   "id": "9ccecf8d-b2c9-4e45-ab35-133956de3b39",
   "metadata": {},
   "outputs": [
    {
     "data": {
      "text/plain": [
       "[32, 1, 2, 3, 4, 5, 8, 10, 15, 25]"
      ]
     },
     "execution_count": 202,
     "metadata": {},
     "output_type": "execute_result"
    }
   ],
   "source": [
    "l"
   ]
  },
  {
   "cell_type": "code",
   "execution_count": 203,
   "id": "1dca3a4e-cee2-475d-a543-5e1daf8bcc32",
   "metadata": {},
   "outputs": [
    {
     "data": {
      "text/plain": [
       "['kivi', 'apple', 'banana', 'dragon', 'papaya']"
      ]
     },
     "execution_count": 203,
     "metadata": {},
     "output_type": "execute_result"
    }
   ],
   "source": [
    "s = [\"apple\", \"banana\", \"dragon\", \"kivi\", \"papaya\"]\n",
    "s.sort(key=len)\n",
    "s"
   ]
  },
  {
   "cell_type": "code",
   "execution_count": 204,
   "id": "70bfaa1a-406f-4765-a588-956b7d885697",
   "metadata": {},
   "outputs": [
    {
     "data": {
      "text/plain": [
       "[1, 2, 3, 4, 5, 6]"
      ]
     },
     "execution_count": 204,
     "metadata": {},
     "output_type": "execute_result"
    }
   ],
   "source": [
    "n = [[1, 2], [3, 4], [5, 6]]\n",
    "a = [i for li in n for i in li]\n",
    "a"
   ]
  },
  {
   "cell_type": "code",
   "execution_count": 205,
   "id": "7b42f5a6-b4b8-46bb-a08a-4357098fa5d6",
   "metadata": {},
   "outputs": [
    {
     "data": {
      "text/plain": [
       "[4, 5, 6, 1, 2, 3]"
      ]
     },
     "execution_count": 205,
     "metadata": {},
     "output_type": "execute_result"
    }
   ],
   "source": [
    "for i in range(3):\n",
    "    b = a.pop()\n",
    "    a.insert(0, b)\n",
    "a"
   ]
  }
 ],
 "metadata": {
  "kernelspec": {
   "display_name": "Python 3 (ipykernel)",
   "language": "python",
   "name": "python3"
  },
  "language_info": {
   "codemirror_mode": {
    "name": "ipython",
    "version": 3
   },
   "file_extension": ".py",
   "mimetype": "text/x-python",
   "name": "python",
   "nbconvert_exporter": "python",
   "pygments_lexer": "ipython3",
   "version": "3.13.5"
  }
 },
 "nbformat": 4,
 "nbformat_minor": 5
}
