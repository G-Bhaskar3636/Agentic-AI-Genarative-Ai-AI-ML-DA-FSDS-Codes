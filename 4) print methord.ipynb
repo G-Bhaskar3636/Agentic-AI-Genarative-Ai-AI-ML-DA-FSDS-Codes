{
 "cells": [
  {
   "cell_type": "markdown",
   "id": "16a17369-7a93-4219-bd00-fa5b9630c7ba",
   "metadata": {},
   "source": [
    "# \"Print\" methord in python"
   ]
  },
  {
   "cell_type": "markdown",
   "id": "81a26760-2f92-4705-a4bf-94a9204cd7f9",
   "metadata": {},
   "source": [
    "- Basic print methord (in this we have to convert the other datatype to str)"
   ]
  },
  {
   "cell_type": "code",
   "execution_count": 5,
   "id": "79dfd960-f82f-464f-8e19-1553bce938ad",
   "metadata": {},
   "outputs": [
    {
     "name": "stdout",
     "output_type": "stream",
     "text": [
      "My name is bhaskar and i am 21 years old\n"
     ]
    }
   ],
   "source": [
    "name = \"bhaskar\"\n",
    "age = 21\n",
    "print(\"My name is \"+name+\" and i am \"+str(age)+\" years old\")"
   ]
  },
  {
   "cell_type": "markdown",
   "id": "5d5feaf5-2e18-45d3-b1ae-f30f72a82698",
   "metadata": {},
   "source": [
    "- str.format() methord (we can also use the index numbers and veriables in it)"
   ]
  },
  {
   "cell_type": "code",
   "execution_count": 7,
   "id": "f57c500a-9134-452a-aea6-106552c0c8da",
   "metadata": {},
   "outputs": [
    {
     "name": "stdout",
     "output_type": "stream",
     "text": [
      "My name is bhaskar and i am 21 years old\n"
     ]
    }
   ],
   "source": [
    "print(\"My name is {} and i am {} years old\".format(name, age))"
   ]
  },
  {
   "cell_type": "code",
   "execution_count": 8,
   "id": "17b5461e-8bc2-4890-84d6-c2de87fdc596",
   "metadata": {},
   "outputs": [
    {
     "name": "stdout",
     "output_type": "stream",
     "text": [
      "My name is 21 and i am bhaskar years old\n"
     ]
    }
   ],
   "source": [
    "print(\"My name is {1} and i am {0} years old\".format(name, age))"
   ]
  },
  {
   "cell_type": "code",
   "execution_count": 9,
   "id": "e627c7b5-1f5c-4b48-8174-d20bb5da69f6",
   "metadata": {},
   "outputs": [
    {
     "name": "stdout",
     "output_type": "stream",
     "text": [
      "My name is bhaskar and i am 21 years old\n"
     ]
    }
   ],
   "source": [
    "print(\"My name is {n} and i am {a} years old\".format(n = name, a = age))"
   ]
  },
  {
   "cell_type": "markdown",
   "id": "80076331-c23a-4a51-a2dd-146d9bba94bf",
   "metadata": {},
   "source": [
    "- using the f-string methord"
   ]
  },
  {
   "cell_type": "code",
   "execution_count": 11,
   "id": "d55bfa46-1741-4198-b939-73cdfe86a42f",
   "metadata": {},
   "outputs": [
    {
     "name": "stdout",
     "output_type": "stream",
     "text": [
      "My name is bhaskar and i am 21 years old\n"
     ]
    }
   ],
   "source": [
    "print(f\"My name is {name} and i am {age} years old\")"
   ]
  }
 ],
 "metadata": {
  "kernelspec": {
   "display_name": "Python 3 (ipykernel)",
   "language": "python",
   "name": "python3"
  },
  "language_info": {
   "codemirror_mode": {
    "name": "ipython",
    "version": 3
   },
   "file_extension": ".py",
   "mimetype": "text/x-python",
   "name": "python",
   "nbconvert_exporter": "python",
   "pygments_lexer": "ipython3",
   "version": "3.13.5"
  }
 },
 "nbformat": 4,
 "nbformat_minor": 5
}
