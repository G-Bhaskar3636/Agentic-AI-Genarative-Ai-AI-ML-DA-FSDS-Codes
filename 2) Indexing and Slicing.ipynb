{
 "cells": [
  {
   "cell_type": "markdown",
   "id": "61e7a03d-8517-43da-8d76-815f0aba36f5",
   "metadata": {},
   "source": [
    "## Python Indexing\n",
    "- There are two types of indexing "
   ]
  },
  {
   "cell_type": "markdown",
   "id": "ed07bef3-359b-4a0d-9300-2d2fba9ec81c",
   "metadata": {},
   "source": [
    "# Positive or Forword Indexing\n",
    "- It will starts with 0 to n-1"
   ]
  },
  {
   "cell_type": "code",
   "execution_count": 62,
   "id": "342b1a4c-60b0-4686-a583-0c0f727f028e",
   "metadata": {},
   "outputs": [
    {
     "data": {
      "text/plain": [
       "'Hello'"
      ]
     },
     "execution_count": 62,
     "metadata": {},
     "output_type": "execute_result"
    }
   ],
   "source": [
    "a = \"Hello\"\n",
    "a"
   ]
  },
  {
   "cell_type": "code",
   "execution_count": 63,
   "id": "0dd43acd-89cf-4814-a4dc-23d5dfb4ba33",
   "metadata": {},
   "outputs": [
    {
     "data": {
      "text/plain": [
       "5"
      ]
     },
     "execution_count": 63,
     "metadata": {},
     "output_type": "execute_result"
    }
   ],
   "source": [
    "n = len(a)\n",
    "n"
   ]
  },
  {
   "cell_type": "code",
   "execution_count": 64,
   "id": "101aa63e-a291-4c7b-97b9-ae279ca1d832",
   "metadata": {},
   "outputs": [
    {
     "name": "stdout",
     "output_type": "stream",
     "text": [
      "start of a = H\n",
      "end of a = o\n"
     ]
    }
   ],
   "source": [
    "start = a[0]\n",
    "end = a[n-1]\n",
    "print(\"start of a = \" +start)\n",
    "print(\"end of a = \"+ end)"
   ]
  },
  {
   "cell_type": "code",
   "execution_count": 67,
   "id": "52a77a90-ca16-4143-90c3-cfd45db9ffbf",
   "metadata": {},
   "outputs": [
    {
     "name": "stdout",
     "output_type": "stream",
     "text": [
      "H\n",
      "e\n",
      "l\n",
      "l\n",
      "o\n"
     ]
    }
   ],
   "source": [
    "print(a[0])\n",
    "print(a[1])\n",
    "print(a[2])\n",
    "print(a[3])\n",
    "print(a[4])"
   ]
  },
  {
   "cell_type": "markdown",
   "id": "eaebe41e-c494-4edf-8c00-7e03ab66fb2e",
   "metadata": {},
   "source": [
    "# Negtive or Backword Indexing\n",
    "- It will starts with -1 to -n"
   ]
  },
  {
   "cell_type": "code",
   "execution_count": 68,
   "id": "63a94b0a-9e23-412c-b4b1-f9ffcb9a4a7c",
   "metadata": {},
   "outputs": [
    {
     "data": {
      "text/plain": [
       "'Python'"
      ]
     },
     "execution_count": 68,
     "metadata": {},
     "output_type": "execute_result"
    }
   ],
   "source": [
    "a = \"Python\"\n",
    "a"
   ]
  },
  {
   "cell_type": "code",
   "execution_count": 70,
   "id": "ff157284-27ba-46cf-b377-b4bfd5c8cd50",
   "metadata": {},
   "outputs": [
    {
     "data": {
      "text/plain": [
       "6"
      ]
     },
     "execution_count": 70,
     "metadata": {},
     "output_type": "execute_result"
    }
   ],
   "source": [
    "b = len(a)\n",
    "b"
   ]
  },
  {
   "cell_type": "code",
   "execution_count": 72,
   "id": "46e2c769-54a7-4c78-a052-6d2ef3873aca",
   "metadata": {},
   "outputs": [
    {
     "name": "stdout",
     "output_type": "stream",
     "text": [
      "start of a = n\n",
      "end of a = P\n"
     ]
    }
   ],
   "source": [
    "start = a[-1]\n",
    "end = a[-6]\n",
    "print(\"start of a = \"+start)\n",
    "print(\"end of a = \" +end)"
   ]
  },
  {
   "cell_type": "code",
   "execution_count": 74,
   "id": "57fd8aab-a947-40a9-a756-cededb9103d8",
   "metadata": {},
   "outputs": [
    {
     "name": "stdout",
     "output_type": "stream",
     "text": [
      "n\n",
      "o\n",
      "h\n",
      "t\n",
      "y\n",
      "P\n"
     ]
    }
   ],
   "source": [
    "print(a[-1])\n",
    "print(a[-2])\n",
    "print(a[-3])\n",
    "print(a[-4])\n",
    "print(a[-5])\n",
    "print(a[-6])"
   ]
  },
  {
   "cell_type": "code",
   "execution_count": null,
   "id": "2df592fb-2ddf-40eb-b21e-d1fa10d1c10c",
   "metadata": {},
   "outputs": [],
   "source": []
  },
  {
   "cell_type": "markdown",
   "id": "b40dd7ec-2e25-4d0b-9e93-e8cf992d1ba8",
   "metadata": {},
   "source": [
    "# Slicing\n",
    "- The process of obtaining the range of chars or substring from main string."
   ]
  },
  {
   "cell_type": "code",
   "execution_count": 89,
   "id": "5e3b0742-461d-4834-9838-a30724c2a7ff",
   "metadata": {},
   "outputs": [],
   "source": [
    "s = \"Python\""
   ]
  },
  {
   "cell_type": "markdown",
   "id": "9fb92b2c-99f0-4042-a36a-07e7262ddaaf",
   "metadata": {},
   "source": [
    "- strobj[start:End]\n",
    "- The index where the slice start and end."
   ]
  },
  {
   "cell_type": "code",
   "execution_count": 91,
   "id": "1f9da4d1-e952-4533-94d6-d10e0f446ab4",
   "metadata": {},
   "outputs": [
    {
     "data": {
      "text/plain": [
       "'ytho'"
      ]
     },
     "execution_count": 91,
     "metadata": {},
     "output_type": "execute_result"
    }
   ],
   "source": [
    "s[1:5]"
   ]
  },
  {
   "cell_type": "code",
   "execution_count": 101,
   "id": "a44018b9-6368-4a2f-8eab-94acff604ab8",
   "metadata": {},
   "outputs": [
    {
     "data": {
      "text/plain": [
       "''"
      ]
     },
     "execution_count": 101,
     "metadata": {},
     "output_type": "execute_result"
    }
   ],
   "source": [
    "s[-2:-5]"
   ]
  },
  {
   "cell_type": "code",
   "execution_count": 102,
   "id": "c6655c41-e047-4ecd-bd4a-f7ef45c2f60c",
   "metadata": {},
   "outputs": [
    {
     "data": {
      "text/plain": [
       "'yth'"
      ]
     },
     "execution_count": 102,
     "metadata": {},
     "output_type": "execute_result"
    }
   ],
   "source": [
    "s[-5:-2]"
   ]
  },
  {
   "cell_type": "code",
   "execution_count": 103,
   "id": "f9e7ff87-6072-4b2a-a206-d4a1dcf802d2",
   "metadata": {},
   "outputs": [
    {
     "data": {
      "text/plain": [
       "'yth'"
      ]
     },
     "execution_count": 103,
     "metadata": {},
     "output_type": "execute_result"
    }
   ],
   "source": [
    "s[1:-2]"
   ]
  },
  {
   "cell_type": "code",
   "execution_count": 105,
   "id": "b0ab7db5-42a1-451e-a4c5-6be517c5ede8",
   "metadata": {},
   "outputs": [
    {
     "data": {
      "text/plain": [
       "'Python'"
      ]
     },
     "execution_count": 105,
     "metadata": {},
     "output_type": "execute_result"
    }
   ],
   "source": [
    "s[0:999]"
   ]
  },
  {
   "cell_type": "code",
   "execution_count": 106,
   "id": "95875909-0613-4e27-ad56-246dfda4bc84",
   "metadata": {},
   "outputs": [
    {
     "data": {
      "text/plain": [
       "'Pytho'"
      ]
     },
     "execution_count": 106,
     "metadata": {},
     "output_type": "execute_result"
    }
   ],
   "source": [
    "s[-999:-1]"
   ]
  },
  {
   "cell_type": "markdown",
   "id": "3620ddb8-3528-4044-9d70-afb83c408a34",
   "metadata": {},
   "source": [
    "- strobj[start:]\n",
    "- Srart slicing (The index where the slice starts)"
   ]
  },
  {
   "cell_type": "code",
   "execution_count": 110,
   "id": "d8ed85c9-9628-4bed-a4d6-81cf09d7fc77",
   "metadata": {},
   "outputs": [
    {
     "data": {
      "text/plain": [
       "'thon'"
      ]
     },
     "execution_count": 110,
     "metadata": {},
     "output_type": "execute_result"
    }
   ],
   "source": [
    "s[2:]\n",
    "#it will print from the o to n"
   ]
  },
  {
   "cell_type": "code",
   "execution_count": 111,
   "id": "1523320f-e3dd-47ee-a86a-100b0f493ff4",
   "metadata": {},
   "outputs": [
    {
     "data": {
      "text/plain": [
       "'Python'"
      ]
     },
     "execution_count": 111,
     "metadata": {},
     "output_type": "execute_result"
    }
   ],
   "source": [
    "s[-999:]"
   ]
  },
  {
   "cell_type": "code",
   "execution_count": 112,
   "id": "fa48e39b-06cf-45f5-869e-897c70a1e412",
   "metadata": {},
   "outputs": [
    {
     "data": {
      "text/plain": [
       "'ython'"
      ]
     },
     "execution_count": 112,
     "metadata": {},
     "output_type": "execute_result"
    }
   ],
   "source": [
    "s[True:]"
   ]
  },
  {
   "cell_type": "markdown",
   "id": "754e0765-c892-4f81-98ea-b04ba9d7406a",
   "metadata": {},
   "source": [
    "- strobj[:End]\n",
    "- End slicing (The index where the slice ends)\n",
    "- The element in the index where not included in result"
   ]
  },
  {
   "cell_type": "code",
   "execution_count": 98,
   "id": "dd18641b-ccae-4fb5-99c5-5684d22a692d",
   "metadata": {},
   "outputs": [
    {
     "data": {
      "text/plain": [
       "'Pytho'"
      ]
     },
     "execution_count": 98,
     "metadata": {},
     "output_type": "execute_result"
    }
   ],
   "source": [
    "s[:5]"
   ]
  },
  {
   "cell_type": "code",
   "execution_count": 113,
   "id": "c67a5f39-4dbf-4496-b232-2512dc74389a",
   "metadata": {},
   "outputs": [
    {
     "data": {
      "text/plain": [
       "''"
      ]
     },
     "execution_count": 113,
     "metadata": {},
     "output_type": "execute_result"
    }
   ],
   "source": [
    "s[:0]"
   ]
  },
  {
   "cell_type": "markdown",
   "id": "5ed52fa2-1494-419a-b4cf-020ffe155190",
   "metadata": {},
   "source": [
    "- Step indexing[start:end:step]\n",
    "- Interval(step) between the elements"
   ]
  },
  {
   "cell_type": "code",
   "execution_count": 117,
   "id": "66cbaaf1-3a2b-42eb-a2fe-c2326dc2e724",
   "metadata": {},
   "outputs": [
    {
     "data": {
      "text/plain": [
       "'Python'"
      ]
     },
     "execution_count": 117,
     "metadata": {},
     "output_type": "execute_result"
    }
   ],
   "source": [
    "s[::1]"
   ]
  },
  {
   "cell_type": "code",
   "execution_count": 118,
   "id": "d7b1633d-50c1-43e9-9b0a-aaa979e576d4",
   "metadata": {},
   "outputs": [
    {
     "data": {
      "text/plain": [
       "'nohtyP'"
      ]
     },
     "execution_count": 118,
     "metadata": {},
     "output_type": "execute_result"
    }
   ],
   "source": [
    "s[::-1]"
   ]
  },
  {
   "cell_type": "code",
   "execution_count": 119,
   "id": "0d759b1e-2a6e-403a-82f1-54ecda1855c6",
   "metadata": {},
   "outputs": [
    {
     "data": {
      "text/plain": [
       "'Pto'"
      ]
     },
     "execution_count": 119,
     "metadata": {},
     "output_type": "execute_result"
    }
   ],
   "source": [
    "s[::2]"
   ]
  }
 ],
 "metadata": {
  "kernelspec": {
   "display_name": "Python 3 (ipykernel)",
   "language": "python",
   "name": "python3"
  },
  "language_info": {
   "codemirror_mode": {
    "name": "ipython",
    "version": 3
   },
   "file_extension": ".py",
   "mimetype": "text/x-python",
   "name": "python",
   "nbconvert_exporter": "python",
   "pygments_lexer": "ipython3",
   "version": "3.13.5"
  }
 },
 "nbformat": 4,
 "nbformat_minor": 5
}
