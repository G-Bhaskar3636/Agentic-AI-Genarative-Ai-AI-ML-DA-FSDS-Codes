{
 "cells": [
  {
   "cell_type": "markdown",
   "id": "9833dbe5-c6ee-4bca-9eea-5f0643cace4a",
   "metadata": {},
   "source": [
    "# Poerators\n",
    "- These are the special symbols or a key words which we will use to perform operations on the variable and values"
   ]
  },
  {
   "cell_type": "markdown",
   "id": "73a8d148-9ee3-463c-8d24-c3f74e2dd15f",
   "metadata": {},
   "source": [
    "- Arithmetic Operator (+, -, *, /, //, %, **)\n",
    "- Used for standard mathematical calculations\n",
    "- Priority shortcut (PEMDAS)\n",
    "- P --> parentheses || E --> exponents || M --> multiplication || D --> division//floor division || A --> addition || s --> subtraction"
   ]
  },
  {
   "cell_type": "code",
   "execution_count": 122,
   "id": "21f83d44-6340-4b54-9372-7a795fc82a19",
   "metadata": {},
   "outputs": [
    {
     "data": {
      "text/plain": [
       "7"
      ]
     },
     "execution_count": 122,
     "metadata": {},
     "output_type": "execute_result"
    }
   ],
   "source": [
    "5 + 2"
   ]
  },
  {
   "cell_type": "code",
   "execution_count": 123,
   "id": "99ee89d5-f477-426e-bc10-be541c7c2d7c",
   "metadata": {},
   "outputs": [
    {
     "data": {
      "text/plain": [
       "'hello hi'"
      ]
     },
     "execution_count": 123,
     "metadata": {},
     "output_type": "execute_result"
    }
   ],
   "source": [
    "\"hello\" + \" hi\""
   ]
  },
  {
   "cell_type": "code",
   "execution_count": 124,
   "id": "a6025852-bd15-43d1-a9f3-40881f256700",
   "metadata": {},
   "outputs": [
    {
     "data": {
      "text/plain": [
       "3"
      ]
     },
     "execution_count": 124,
     "metadata": {},
     "output_type": "execute_result"
    }
   ],
   "source": [
    "5 -2"
   ]
  },
  {
   "cell_type": "code",
   "execution_count": 125,
   "id": "5c5f26df-220e-4aa7-9d91-f2080b79a625",
   "metadata": {},
   "outputs": [
    {
     "data": {
      "text/plain": [
       "10"
      ]
     },
     "execution_count": 125,
     "metadata": {},
     "output_type": "execute_result"
    }
   ],
   "source": [
    "5*2"
   ]
  },
  {
   "cell_type": "code",
   "execution_count": 126,
   "id": "36b04a3d-243d-4530-9c3d-7a8ccca7ed76",
   "metadata": {},
   "outputs": [
    {
     "data": {
      "text/plain": [
       "2.5"
      ]
     },
     "execution_count": 126,
     "metadata": {},
     "output_type": "execute_result"
    }
   ],
   "source": [
    "5/2"
   ]
  },
  {
   "cell_type": "code",
   "execution_count": 127,
   "id": "7147cd64-04c0-4289-b447-730c6ff85e04",
   "metadata": {},
   "outputs": [
    {
     "data": {
      "text/plain": [
       "2"
      ]
     },
     "execution_count": 127,
     "metadata": {},
     "output_type": "execute_result"
    }
   ],
   "source": [
    "5//2"
   ]
  },
  {
   "cell_type": "code",
   "execution_count": 128,
   "id": "153d98f0-1944-4073-87ea-58bcb04c8fcf",
   "metadata": {},
   "outputs": [
    {
     "data": {
      "text/plain": [
       "1"
      ]
     },
     "execution_count": 128,
     "metadata": {},
     "output_type": "execute_result"
    }
   ],
   "source": [
    "5%2"
   ]
  },
  {
   "cell_type": "code",
   "execution_count": 129,
   "id": "7230e1a7-1d04-4e80-acb6-aaa7635b87fa",
   "metadata": {},
   "outputs": [
    {
     "data": {
      "text/plain": [
       "25"
      ]
     },
     "execution_count": 129,
     "metadata": {},
     "output_type": "execute_result"
    }
   ],
   "source": [
    "5**2"
   ]
  },
  {
   "cell_type": "markdown",
   "id": "e892d820-c604-4e57-9719-4a7fd004697e",
   "metadata": {},
   "source": [
    "- Assignment Operator(=, +=, -=, *=, /=, //=)\n",
    "- used to assign values to the variacles"
   ]
  },
  {
   "cell_type": "code",
   "execution_count": 7,
   "id": "50d3db8f-929c-4340-98be-690929b2aabd",
   "metadata": {},
   "outputs": [
    {
     "data": {
      "text/plain": [
       "10"
      ]
     },
     "execution_count": 7,
     "metadata": {},
     "output_type": "execute_result"
    }
   ],
   "source": [
    "a = 10\n",
    "a"
   ]
  },
  {
   "cell_type": "code",
   "execution_count": 8,
   "id": "4066a4ce-74e4-4806-8317-5ed9d2bc5718",
   "metadata": {},
   "outputs": [
    {
     "data": {
      "text/plain": [
       "20"
      ]
     },
     "execution_count": 8,
     "metadata": {},
     "output_type": "execute_result"
    }
   ],
   "source": [
    "a += 10\n",
    "a"
   ]
  },
  {
   "cell_type": "code",
   "execution_count": 9,
   "id": "49924bae-c638-4782-b85e-1dbbb4d9c66a",
   "metadata": {},
   "outputs": [
    {
     "data": {
      "text/plain": [
       "10"
      ]
     },
     "execution_count": 9,
     "metadata": {},
     "output_type": "execute_result"
    }
   ],
   "source": [
    "a -= 10\n",
    "a"
   ]
  },
  {
   "cell_type": "code",
   "execution_count": 10,
   "id": "6f67a594-45c9-4410-908f-8dc05d07d882",
   "metadata": {},
   "outputs": [
    {
     "data": {
      "text/plain": [
       "50"
      ]
     },
     "execution_count": 10,
     "metadata": {},
     "output_type": "execute_result"
    }
   ],
   "source": [
    "a *= 5\n",
    "a"
   ]
  },
  {
   "cell_type": "code",
   "execution_count": 11,
   "id": "139fc3a7-6bfe-4599-b277-931f42c67ff8",
   "metadata": {},
   "outputs": [
    {
     "data": {
      "text/plain": [
       "2500"
      ]
     },
     "execution_count": 11,
     "metadata": {},
     "output_type": "execute_result"
    }
   ],
   "source": [
    "a **= 2\n",
    "a"
   ]
  },
  {
   "cell_type": "code",
   "execution_count": 12,
   "id": "ed9e67ce-9454-4d5c-9d1d-e4d1ea27994a",
   "metadata": {},
   "outputs": [
    {
     "data": {
      "text/plain": [
       "1250.0"
      ]
     },
     "execution_count": 12,
     "metadata": {},
     "output_type": "execute_result"
    }
   ],
   "source": [
    "a /= 2\n",
    "a"
   ]
  },
  {
   "cell_type": "code",
   "execution_count": 13,
   "id": "bc830e61-100c-4567-9a7f-3a6351be4ca4",
   "metadata": {},
   "outputs": [
    {
     "data": {
      "text/plain": [
       "625.0"
      ]
     },
     "execution_count": 13,
     "metadata": {},
     "output_type": "execute_result"
    }
   ],
   "source": [
    "a //= 2\n",
    "a"
   ]
  },
  {
   "cell_type": "markdown",
   "id": "71ec7b2d-b50f-4407-b8a1-416b1536305c",
   "metadata": {},
   "source": [
    "- Comparation/Relational Operators (>, <, >=, <=, !=, ==)\n",
    "- compareds values and returns True or False"
   ]
  },
  {
   "cell_type": "code",
   "execution_count": 14,
   "id": "6fa9bba5-cfd8-407d-9363-659050ac17e6",
   "metadata": {},
   "outputs": [
    {
     "data": {
      "text/plain": [
       "False"
      ]
     },
     "execution_count": 14,
     "metadata": {},
     "output_type": "execute_result"
    }
   ],
   "source": [
    "5 > 6"
   ]
  },
  {
   "cell_type": "code",
   "execution_count": 15,
   "id": "e97da684-971e-4b5d-b82b-53b66ee5246c",
   "metadata": {},
   "outputs": [
    {
     "data": {
      "text/plain": [
       "True"
      ]
     },
     "execution_count": 15,
     "metadata": {},
     "output_type": "execute_result"
    }
   ],
   "source": [
    "5 < 6"
   ]
  },
  {
   "cell_type": "code",
   "execution_count": 16,
   "id": "61ad5d71-cdad-43b0-ba95-a142fda15816",
   "metadata": {},
   "outputs": [
    {
     "data": {
      "text/plain": [
       "True"
      ]
     },
     "execution_count": 16,
     "metadata": {},
     "output_type": "execute_result"
    }
   ],
   "source": [
    "True >= False"
   ]
  },
  {
   "cell_type": "code",
   "execution_count": 17,
   "id": "6f4bd6d3-2fd9-4a67-957e-be4451f62980",
   "metadata": {},
   "outputs": [
    {
     "data": {
      "text/plain": [
       "True"
      ]
     },
     "execution_count": 17,
     "metadata": {},
     "output_type": "execute_result"
    }
   ],
   "source": [
    "10 <= 10"
   ]
  },
  {
   "cell_type": "code",
   "execution_count": 18,
   "id": "c717ee56-65cc-47f6-be6c-454eef8e915b",
   "metadata": {},
   "outputs": [
    {
     "data": {
      "text/plain": [
       "False"
      ]
     },
     "execution_count": 18,
     "metadata": {},
     "output_type": "execute_result"
    }
   ],
   "source": [
    "10 == 15"
   ]
  },
  {
   "cell_type": "code",
   "execution_count": 168,
   "id": "9c47f082-6f03-4388-8c5d-84e7f89cfd82",
   "metadata": {},
   "outputs": [
    {
     "data": {
      "text/plain": [
       "True"
      ]
     },
     "execution_count": 168,
     "metadata": {},
     "output_type": "execute_result"
    }
   ],
   "source": [
    "10 != 5"
   ]
  },
  {
   "cell_type": "markdown",
   "id": "43ae2372-a89c-40de-88f0-153e2c4bf733",
   "metadata": {},
   "source": [
    "- Logical Operators (and, or, not)\n",
    "- used to combile the condishnal statements"
   ]
  },
  {
   "cell_type": "code",
   "execution_count": 19,
   "id": "c994309a-5432-4723-bc09-4b11b4929532",
   "metadata": {},
   "outputs": [
    {
     "data": {
      "text/plain": [
       "True"
      ]
     },
     "execution_count": 19,
     "metadata": {},
     "output_type": "execute_result"
    }
   ],
   "source": [
    "True and True"
   ]
  },
  {
   "cell_type": "code",
   "execution_count": 20,
   "id": "15619ffb-9577-4814-aaa7-a5212e7bc1cb",
   "metadata": {},
   "outputs": [
    {
     "data": {
      "text/plain": [
       "True"
      ]
     },
     "execution_count": 20,
     "metadata": {},
     "output_type": "execute_result"
    }
   ],
   "source": [
    "True or False"
   ]
  },
  {
   "cell_type": "code",
   "execution_count": 21,
   "id": "bef65788-bbb9-437c-ac76-f86eb3b277da",
   "metadata": {},
   "outputs": [
    {
     "data": {
      "text/plain": [
       "False"
      ]
     },
     "execution_count": 21,
     "metadata": {},
     "output_type": "execute_result"
    }
   ],
   "source": [
    "not True"
   ]
  },
  {
   "cell_type": "markdown",
   "id": "440a8ef1-6512-45c8-9a79-a1795be5ced6",
   "metadata": {},
   "source": [
    "- Membership Operators (in, not in)\n",
    "- Test if a value is in sebsequence or not"
   ]
  },
  {
   "cell_type": "code",
   "execution_count": 22,
   "id": "ee625154-4f30-4eff-ab9d-62fa1dd16156",
   "metadata": {},
   "outputs": [
    {
     "data": {
      "text/plain": [
       "True"
      ]
     },
     "execution_count": 22,
     "metadata": {},
     "output_type": "execute_result"
    }
   ],
   "source": [
    "\"a\" in \"apple\""
   ]
  },
  {
   "cell_type": "code",
   "execution_count": 23,
   "id": "4f3027a9-f227-4b8f-b74b-4ef0fd5aa3aa",
   "metadata": {},
   "outputs": [
    {
     "data": {
      "text/plain": [
       "False"
      ]
     },
     "execution_count": 23,
     "metadata": {},
     "output_type": "execute_result"
    }
   ],
   "source": [
    "\"a\" not in \"apple\""
   ]
  },
  {
   "cell_type": "markdown",
   "id": "bd643769-bbb4-4e78-b0c1-2304217f07d7",
   "metadata": {},
   "source": [
    "- Identify operators(is, not is)\n",
    "- checks the memory location"
   ]
  },
  {
   "cell_type": "code",
   "execution_count": 24,
   "id": "5124cdbf-4fb2-4213-9362-0f1488184877",
   "metadata": {},
   "outputs": [
    {
     "name": "stdout",
     "output_type": "stream",
     "text": [
      "140727270290632\n",
      "140727270290632\n"
     ]
    }
   ],
   "source": [
    "a = 10\n",
    "b = 10\n",
    "print(id(a))\n",
    "print(id(b))"
   ]
  },
  {
   "cell_type": "code",
   "execution_count": 25,
   "id": "b4a35afc-6c49-4488-a091-5a1b0bb4468c",
   "metadata": {},
   "outputs": [
    {
     "data": {
      "text/plain": [
       "True"
      ]
     },
     "execution_count": 25,
     "metadata": {},
     "output_type": "execute_result"
    }
   ],
   "source": [
    "a is b"
   ]
  },
  {
   "cell_type": "code",
   "execution_count": 26,
   "id": "447f70f5-9536-4a56-8e7e-3755c05218f2",
   "metadata": {},
   "outputs": [
    {
     "data": {
      "text/plain": [
       "False"
      ]
     },
     "execution_count": 26,
     "metadata": {},
     "output_type": "execute_result"
    }
   ],
   "source": [
    "a is not b"
   ]
  },
  {
   "cell_type": "markdown",
   "id": "3bf800e0-c702-4265-8644-6d5a49bd358e",
   "metadata": {},
   "source": [
    "- Bitwise operator(&[and], |[or], ^[xor], ~[not], <<[left shift], >>[right shift])\n",
    "- operats on binary digits"
   ]
  },
  {
   "cell_type": "code",
   "execution_count": 34,
   "id": "c7aae08b-1af5-4380-8671-631588dede42",
   "metadata": {},
   "outputs": [
    {
     "name": "stdout",
     "output_type": "stream",
     "text": [
      "0b101\n",
      "0b111\n"
     ]
    }
   ],
   "source": [
    "a = 5\n",
    "b = 7\n",
    "print(bin(a))\n",
    "print(bin(b))"
   ]
  },
  {
   "cell_type": "code",
   "execution_count": 35,
   "id": "9d07423b-2c28-451a-a02c-5605bce9b8a3",
   "metadata": {},
   "outputs": [
    {
     "data": {
      "text/plain": [
       "5"
      ]
     },
     "execution_count": 35,
     "metadata": {},
     "output_type": "execute_result"
    }
   ],
   "source": [
    "a & b"
   ]
  },
  {
   "cell_type": "code",
   "execution_count": 36,
   "id": "c3d17792-88ef-4f8e-806e-a0fd19f0d21b",
   "metadata": {},
   "outputs": [
    {
     "data": {
      "text/plain": [
       "7"
      ]
     },
     "execution_count": 36,
     "metadata": {},
     "output_type": "execute_result"
    }
   ],
   "source": [
    "a | b"
   ]
  },
  {
   "cell_type": "code",
   "execution_count": 37,
   "id": "a19728a1-0a01-428e-84bb-5c88d46f1639",
   "metadata": {},
   "outputs": [
    {
     "data": {
      "text/plain": [
       "2"
      ]
     },
     "execution_count": 37,
     "metadata": {},
     "output_type": "execute_result"
    }
   ],
   "source": [
    "a ^ b"
   ]
  },
  {
   "cell_type": "code",
   "execution_count": 38,
   "id": "53614602-29fa-4ea4-b9b9-1442bd6d5ad0",
   "metadata": {},
   "outputs": [
    {
     "data": {
      "text/plain": [
       "-6"
      ]
     },
     "execution_count": 38,
     "metadata": {},
     "output_type": "execute_result"
    }
   ],
   "source": [
    "~a"
   ]
  },
  {
   "cell_type": "code",
   "execution_count": 40,
   "id": "9a73a94f-b911-48ac-ac83-45c4e2f1bb3c",
   "metadata": {},
   "outputs": [
    {
     "data": {
      "text/plain": [
       "10"
      ]
     },
     "execution_count": 40,
     "metadata": {},
     "output_type": "execute_result"
    }
   ],
   "source": [
    "a << 1"
   ]
  },
  {
   "cell_type": "code",
   "execution_count": 41,
   "id": "72956bcc-8a47-4bd1-b2b6-639079395045",
   "metadata": {},
   "outputs": [
    {
     "data": {
      "text/plain": [
       "3"
      ]
     },
     "execution_count": 41,
     "metadata": {},
     "output_type": "execute_result"
    }
   ],
   "source": [
    "b >> 1"
   ]
  }
 ],
 "metadata": {
  "kernelspec": {
   "display_name": "Python 3 (ipykernel)",
   "language": "python",
   "name": "python3"
  },
  "language_info": {
   "codemirror_mode": {
    "name": "ipython",
    "version": 3
   },
   "file_extension": ".py",
   "mimetype": "text/x-python",
   "name": "python",
   "nbconvert_exporter": "python",
   "pygments_lexer": "ipython3",
   "version": "3.13.5"
  }
 },
 "nbformat": 4,
 "nbformat_minor": 5
}
